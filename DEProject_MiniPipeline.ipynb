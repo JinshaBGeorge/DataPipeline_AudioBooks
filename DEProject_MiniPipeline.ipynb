{
  "nbformat": 4,
  "nbformat_minor": 0,
  "metadata": {
    "colab": {
      "provenance": []
    },
    "kernelspec": {
      "name": "python3",
      "display_name": "Python 3"
    },
    "language_info": {
      "name": "python"
    }
  },
  "cells": [
    {
      "cell_type": "code",
      "execution_count": 2,
      "metadata": {
        "id": "ngv0pweSLji0"
      },
      "outputs": [],
      "source": [
        "#####################  PIPELINE (Author: Jinsha George) ########################\n",
        "# Step 1: Import libraries and Load Data\n",
        "# Step 2: Data Cleaning - Column: author\n",
        "# Step 3: Data Cleaning - Column: narrator\n",
        "# Step 4: New Column - Column: minutes\n",
        "# Step 5: Data Validation - Column: releasedate\n",
        "# Step 6: New Column - Column: rating\n",
        "# Step 7: New Column - Column: number_of_ratings\n",
        "# Step 8: Data type correctiong - Column: price\n",
        "# Step 9: Export the transformed data\n",
        "\n",
        "################################################################################"
      ]
    },
    {
      "cell_type": "code",
      "source": [
        "# Step 1: Import libraries and Load Data\n",
        "import pandas as pd\n",
        "import re\n",
        "\n",
        "def load_data(filename):\n",
        "  project_df = pd.read_csv(filename)\n",
        "  return project_df"
      ],
      "metadata": {
        "id": "3nt7NVS4NFX8"
      },
      "execution_count": 4,
      "outputs": []
    },
    {
      "cell_type": "code",
      "source": [
        "# Step 2: Data Cleaning for names\n",
        "\n",
        "def name_cleaning(name):\n",
        "  name = name.replace('Writtenby:', '')\n",
        "  name = name.replace('Narratedby:', '')\n",
        "  name = re.sub('([A-Z])', r' \\1', name)\n",
        "  return name"
      ],
      "metadata": {
        "id": "aibq6XPCNp6M"
      },
      "execution_count": 5,
      "outputs": []
    },
    {
      "cell_type": "code",
      "source": [
        "# Step 2: Data Cleaning - Column: author\n",
        "\n",
        "def data_clean_author(project_df):\n",
        "  project_df.author = project_df['author'].apply(name_cleaning)\n",
        "  return project_df"
      ],
      "metadata": {
        "id": "KJUVM-tEOqR8"
      },
      "execution_count": 6,
      "outputs": []
    },
    {
      "cell_type": "code",
      "source": [
        "# Step 3: Data Cleaning - Column: narrator\n",
        "\n",
        "def data_clean_narrator(project_df):\n",
        "  project_df.narrator = project_df['narrator'].apply(name_cleaning)\n",
        "  return project_df"
      ],
      "metadata": {
        "id": "xW14B71FQY5P"
      },
      "execution_count": 7,
      "outputs": []
    },
    {
      "cell_type": "code",
      "source": [
        "# Step 4: New Column - Column: minutes\n",
        "#extract total minutes from time\n",
        "\n",
        "def extract_mins(time):\n",
        "  mins = 0\n",
        "  if 'hr' in time.lower():\n",
        "    time_list = [int(s) for s in time.split() if s.isdigit()]\n",
        "    if len(time_list) == 1:\n",
        "      mins = time_list[0]*60\n",
        "    elif len(time_list)==2:\n",
        "      mins = (time_list[0]*60) + time_list[1]\n",
        "    else:\n",
        "      mins = 0\n",
        "  else:\n",
        "    if 'min' in time.lower():\n",
        "      time_list = [int(s) for s in time.split() if s.isdigit()]\n",
        "      if len(time_list) == 1:\n",
        "        mins = time_list[0]\n",
        "      else:\n",
        "        mins = 0\n",
        "  return mins\n"
      ],
      "metadata": {
        "id": "S74UKP6eQnfY"
      },
      "execution_count": 8,
      "outputs": []
    },
    {
      "cell_type": "code",
      "source": [
        "# Step 4: New Column - Column: minutes\n",
        "def create_minutes(project_df):\n",
        "  project_df['minutes'] = project_df['time'].apply(extract_mins)\n",
        "  return project_df"
      ],
      "metadata": {
        "id": "373m0RJ5Qvwq"
      },
      "execution_count": 9,
      "outputs": []
    },
    {
      "cell_type": "code",
      "source": [
        "# Step 5: Data Validation - Column: releasedate\n",
        "#Date Validation, format: dd-mm-yy\n",
        "#Note: Year is not validated because of ambiguity\n",
        "\n",
        "def check_date(date):\n",
        "  date_list = [int(s) for s in date.split('-') if s.isdigit()]\n",
        "  if len(date_list) == 3:\n",
        "    if date_list[1] < 13:\n",
        "        if date_list[1] in [1,3,5,7,8,10,12] and date_list[0] < 32:\n",
        "          return True\n",
        "        elif date_list[1] == 2:\n",
        "          if date_list[2]%4==0 and date_list[0] < 30:\n",
        "            return True\n",
        "          elif date_list[0] < 29:\n",
        "            return True\n",
        "        elif date_list[1] in [4,6,9,11] and date_list[0] < 31:\n",
        "          return True\n",
        "  return False"
      ],
      "metadata": {
        "id": "wNuDGEK7RApB"
      },
      "execution_count": 10,
      "outputs": []
    },
    {
      "cell_type": "code",
      "source": [
        "# Step 5: Data Validation - Column: releasedate\n",
        "\n",
        "def date_valid(project_df):\n",
        "  project_df['date_valid'] = project_df['releasedate'].apply(check_date)\n",
        "\n",
        "  date_invalid = project_df['date_valid'] == False\n",
        "  project_df[date_invalid] #All dates are valid\n",
        "\n",
        "  project_df = project_df.drop (['date_valid'], axis =1)\n",
        "\n",
        "  project_df[\"releasedate\"] = pd.to_datetime(project_df[\"releasedate\"], format='%d-%m-%y')\n",
        "\n",
        "  return project_df"
      ],
      "metadata": {
        "id": "U3g_4d4rRIri"
      },
      "execution_count": 11,
      "outputs": []
    },
    {
      "cell_type": "code",
      "source": [
        "#Step 6: New Column - Column: rating\n",
        "\n",
        "def clean_rating_float(project_df):\n",
        "  project_df[['rating','number_of_ratings']] = project_df['stars'].str.split('stars', 1, expand=True) #spliting to two columns, secon column used in next step\n",
        "  project_df.rating = project_df['rating'].str.extract('([-+]?\\d*\\.?\\d+)').astype('float').fillna(0)\n",
        "  return project_df"
      ],
      "metadata": {
        "id": "Jeszu6tYSDEg"
      },
      "execution_count": 12,
      "outputs": []
    },
    {
      "cell_type": "code",
      "source": [
        "#Step 7: New Column - Column: number_of_rating\n",
        "\n",
        "def clean_number_of_rating_int(project_df):\n",
        "  project_df.number_of_ratings = project_df['number_of_ratings'].str.extract('(\\d+)').astype('float')\n",
        "  project_df.number_of_ratings = project_df['number_of_ratings'].fillna(0).astype('int')\n",
        "  return project_df"
      ],
      "metadata": {
        "id": "nMne21ndSU1-"
      },
      "execution_count": 13,
      "outputs": []
    },
    {
      "cell_type": "code",
      "source": [
        "# Step 8: Data type correctiong - Column: price\n",
        "\n",
        "def clean_price_float(project_df):\n",
        "  project_df.price = project_df['price'].str.replace(',', '').str.extract(r'(\\d+.\\d+)').astype('float')\n",
        "  project_df.price = project_df['price'].fillna(0)\n",
        "  return project_df"
      ],
      "metadata": {
        "id": "yypoZtGbS7Rd"
      },
      "execution_count": 14,
      "outputs": []
    },
    {
      "cell_type": "code",
      "source": [
        "# Step 9: Export the transformed data\n",
        "\n",
        "def export_data(project_df,filename):\n",
        "  filename = filename.replace('.csv', '_transformed.csv')\n",
        "  project_df.to_csv(filename, index = False)"
      ],
      "metadata": {
        "id": "u5UTGJcHTVVw"
      },
      "execution_count": 18,
      "outputs": []
    },
    {
      "cell_type": "code",
      "source": [
        "# Pipeline calling every step\n",
        "\n",
        "def pipeline():\n",
        "  filename = 'project_dataset.csv'\n",
        "  project_df = load_data(filename)\n",
        "  project_df = data_clean_author(project_df)\n",
        "  project_df = data_clean_narrator(project_df)\n",
        "  project_df = create_minutes(project_df)\n",
        "  project_df = date_valid(project_df)\n",
        "  project_df = clean_rating_float(project_df)\n",
        "  project_df = clean_number_of_rating_int(project_df)\n",
        "  project_df = clean_price_float(project_df)\n",
        "  export_data(project_df,filename)"
      ],
      "metadata": {
        "id": "iYHfLan8UGW1"
      },
      "execution_count": 19,
      "outputs": []
    },
    {
      "cell_type": "code",
      "source": [
        "pipeline()"
      ],
      "metadata": {
        "colab": {
          "base_uri": "https://localhost:8080/"
        },
        "id": "b7MlaENvVAt0",
        "outputId": "b0ecb541-e850-43d7-ee85-f79f2ce39ad5"
      },
      "execution_count": 20,
      "outputs": [
        {
          "output_type": "stream",
          "name": "stderr",
          "text": [
            "<ipython-input-12-01ca5d54911d>:4: FutureWarning: In a future version of pandas all arguments of StringMethods.split except for the argument 'pat' will be keyword-only.\n",
            "  project_df[['rating','number_of_ratings']] = project_df['stars'].str.split('stars', 1, expand=True) #spliting to two columns, secon column used in next step\n"
          ]
        }
      ]
    }
  ]
}